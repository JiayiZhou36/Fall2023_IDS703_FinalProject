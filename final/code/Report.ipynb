{
 "cells": [
  {
   "cell_type": "markdown",
   "metadata": {},
   "source": [
    "##### RNN Model on Real Data"
   ]
  },
  {
   "cell_type": "code",
   "execution_count": 2,
   "metadata": {},
   "outputs": [],
   "source": [
    "import RNN as rnn"
   ]
  },
  {
   "cell_type": "code",
   "execution_count": 6,
   "metadata": {},
   "outputs": [
    {
     "name": "stdout",
     "output_type": "stream",
     "text": [
      "Read files done\n",
      "Start training\n",
      "Epoch 1/20, Loss: 0.6743, Accuracy: 0.5874, Time: 15.81 seconds\n",
      "Epoch 2/20, Loss: 0.6448, Accuracy: 0.6015, Time: 15.80 seconds\n",
      "Epoch 3/20, Loss: 0.6349, Accuracy: 0.6153, Time: 15.55 seconds\n",
      "Epoch 4/20, Loss: 0.5541, Accuracy: 0.7402, Time: 15.47 seconds\n",
      "Epoch 5/20, Loss: 0.4600, Accuracy: 0.8186, Time: 15.43 seconds\n",
      "Epoch 6/20, Loss: 0.4448, Accuracy: 0.8132, Time: 15.44 seconds\n",
      "Epoch 7/20, Loss: 0.5575, Accuracy: 0.6869, Time: 15.62 seconds\n",
      "Epoch 8/20, Loss: 0.5817, Accuracy: 0.6696, Time: 15.71 seconds\n",
      "Epoch 9/20, Loss: 0.5624, Accuracy: 0.6874, Time: 15.79 seconds\n",
      "Epoch 10/20, Loss: 0.4873, Accuracy: 0.7559, Time: 15.59 seconds\n",
      "Epoch 11/20, Loss: 0.5451, Accuracy: 0.7085, Time: 14.77 seconds\n",
      "Epoch 12/20, Loss: 0.4229, Accuracy: 0.8368, Time: 14.81 seconds\n",
      "Epoch 13/20, Loss: 0.3827, Accuracy: 0.8666, Time: 14.95 seconds\n",
      "Epoch 14/20, Loss: 0.3800, Accuracy: 0.8361, Time: 14.97 seconds\n",
      "Epoch 15/20, Loss: 0.2767, Accuracy: 0.8842, Time: 14.92 seconds\n",
      "Epoch 16/20, Loss: 0.2797, Accuracy: 0.8846, Time: 15.08 seconds\n",
      "Epoch 17/20, Loss: 0.2947, Accuracy: 0.8869, Time: 15.03 seconds\n",
      "Epoch 18/20, Loss: 0.3576, Accuracy: 0.8783, Time: 14.98 seconds\n",
      "Epoch 19/20, Loss: 0.3463, Accuracy: 0.8873, Time: 14.92 seconds\n",
      "Epoch 20/20, Loss: 0.3265, Accuracy: 0.8957, Time: 14.97 seconds\n",
      "Total training time: 305.60 seconds\n"
     ]
    }
   ],
   "source": [
    "rnn.train_rnn_model(\"../data/category10.txt\", \"../data/category17.txt\")"
   ]
  },
  {
   "cell_type": "markdown",
   "metadata": {},
   "source": [
    "##### RNN Model on Synthetic Data"
   ]
  },
  {
   "cell_type": "code",
   "execution_count": 8,
   "metadata": {},
   "outputs": [
    {
     "name": "stdout",
     "output_type": "stream",
     "text": [
      "Read files done\n",
      "Start training\n",
      "Epoch 1/20, Loss: 0.6934, Accuracy: 0.5108, Time: 4.57 seconds\n",
      "Epoch 2/20, Loss: 0.6877, Accuracy: 0.5211, Time: 4.57 seconds\n",
      "Epoch 3/20, Loss: 0.6876, Accuracy: 0.5232, Time: 4.42 seconds\n",
      "Epoch 4/20, Loss: 0.6869, Accuracy: 0.5133, Time: 4.88 seconds\n",
      "Epoch 5/20, Loss: 0.6795, Accuracy: 0.5277, Time: 4.59 seconds\n",
      "Epoch 6/20, Loss: 0.6806, Accuracy: 0.5252, Time: 4.60 seconds\n",
      "Epoch 7/20, Loss: 0.6703, Accuracy: 0.5414, Time: 4.53 seconds\n",
      "Epoch 8/20, Loss: 0.6329, Accuracy: 0.6499, Time: 4.53 seconds\n",
      "Epoch 9/20, Loss: 0.6090, Accuracy: 0.6741, Time: 4.65 seconds\n",
      "Epoch 10/20, Loss: 0.6826, Accuracy: 0.5214, Time: 4.72 seconds\n",
      "Epoch 11/20, Loss: 0.6804, Accuracy: 0.5239, Time: 4.59 seconds\n",
      "Epoch 12/20, Loss: 0.6765, Accuracy: 0.5458, Time: 4.71 seconds\n",
      "Epoch 13/20, Loss: 0.6676, Accuracy: 0.5697, Time: 4.61 seconds\n",
      "Epoch 14/20, Loss: 0.6338, Accuracy: 0.6486, Time: 4.65 seconds\n",
      "Epoch 15/20, Loss: 0.5771, Accuracy: 0.7236, Time: 4.63 seconds\n",
      "Epoch 16/20, Loss: 0.6408, Accuracy: 0.6438, Time: 4.59 seconds\n",
      "Epoch 17/20, Loss: 0.6644, Accuracy: 0.6152, Time: 4.65 seconds\n",
      "Epoch 18/20, Loss: 0.6616, Accuracy: 0.6163, Time: 4.62 seconds\n",
      "Epoch 19/20, Loss: 0.6598, Accuracy: 0.6148, Time: 4.53 seconds\n",
      "Epoch 20/20, Loss: 0.6597, Accuracy: 0.6155, Time: 4.55 seconds\n",
      "Total training time: 92.18 seconds\n"
     ]
    }
   ],
   "source": [
    "rnn.train_rnn_model(\"../data/synthetic_music.txt\", \"../data/synthetic_sports.txt\")"
   ]
  }
 ],
 "metadata": {
  "kernelspec": {
   "display_name": "Python 3",
   "language": "python",
   "name": "python3"
  },
  "language_info": {
   "codemirror_mode": {
    "name": "ipython",
    "version": 3
   },
   "file_extension": ".py",
   "mimetype": "text/x-python",
   "name": "python",
   "nbconvert_exporter": "python",
   "pygments_lexer": "ipython3",
   "version": "3.11.5"
  }
 },
 "nbformat": 4,
 "nbformat_minor": 2
}
